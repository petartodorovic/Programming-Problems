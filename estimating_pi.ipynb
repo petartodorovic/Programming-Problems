{
 "cells": [
  {
   "cell_type": "markdown",
   "metadata": {},
   "source": [
    "# Description of Problem\n",
    "\n",
    "You have a function called random, which generates a random number between 0 to 1, uniformly. \n",
    "How would one be able to calculate $\\pi$ using this function?\n",
    "\n",
    "# Approach to the Solution\n",
    "\n",
    "You are given the function which uniformly draws a number between the bounds of 0 and 1. We can frame this problem by drawing a unit square, which has lengths equal to 1. The procedure here is to imagine that you can draw/sample from the uniform distribution, generating a pair of (x,y) coordinates respectively. Ultimately, this point which is defined by these two variables will be confined by the area of the unit square. We can then compute the distance from the origin as to where this point lies, simply by applying Pythagorean Theorem:\n",
    "\n",
    "$$ r^2 = x^2 + y^2 $$\n",
    "\n",
    "Then, having this calculated distance, we can see from Figure 1 that any point that has a distance less than or equal to 1 would either lie on the boundry of the circle or within it. Thus, we can then take the ratio of the number of points which fall within this blue-shaded area with respect to the total number of points (which would encompass those that fall within and outside the 1/4 circular boundry) as a proxy and similar ratio to the area of the circle ($A_{circle}=\\pi r^2$) relative to the area of the square ($A_{square} = r^2$). Hence this hypothesis leads to the estimation of $\\pi$ but scaled by a factor of 4 as only one 1/4 of the circle is used. \n",
    "\n",
    "The expectation here is that as you increase the number of points that you use to sample, you will get a better approximation of $\\pi$.\n",
    "\n",
    "$$ \\bar\\pi \\approx \\frac{A_{circle}}{A_{square}} \\approx \\frac{n^{points}_{circle}}{n^{points}_{total}} $$\n",
    "\n",
    "[<img src=\"Figures/UnitSquare_Circle_Estimate_Pi.png\" width=\"500\"/>](Figures/UnitSquare_Circle_Estimate_Pi.png)\n",
    "#### "
   ]
  },
  {
   "cell_type": "code",
   "execution_count": 4,
   "metadata": {},
   "outputs": [],
   "source": [
    "import pandas as pd\n",
    "import numpy as np\n",
    "from numpy import random\n",
    "import seaborn as sns\n",
    "import os\n",
    "import time"
   ]
  },
  {
   "cell_type": "code",
   "execution_count": 6,
   "metadata": {},
   "outputs": [],
   "source": [
    "def estimate_pi(n_points):\n",
    "    \"\"\"\n",
    "    Function here takes one argument\n",
    "    Inputs\n",
    "    -------\n",
    "    n: number of points you would use to estimate\n",
    "    \n",
    "    Returns\n",
    "    -------\n",
    "    Estimate of pi\n",
    "    \"\"\"\n",
    "    # Initially you want to set the two variables \n",
    "    # which are the number of points in circle and number of points outside to 0\n",
    "    \n",
    "    num_points_circle = 0\n",
    "    \n",
    "    for i in range(n_points):\n",
    "        x = random.uniform(0,1)\n",
    "        y = random.uniform(0,1)\n",
    "        \n",
    "        d_est = x**2+y**2\n",
    "        if d_est <= 1:\n",
    "            num_points_circle += 1\n",
    "        \n",
    "    return 4*(num_points_circle/n_points)"
   ]
  },
  {
   "cell_type": "code",
   "execution_count": 14,
   "metadata": {},
   "outputs": [],
   "source": [
    "def estimate_pi2(n_points):\n",
    "    \"\"\"\n",
    "    Function here takes one argument\n",
    "    Inputs\n",
    "    -------\n",
    "    n: number of points you would use to estimate\n",
    "    \n",
    "    Returns\n",
    "    -------\n",
    "    Estimate of pi\n",
    "    \"\"\"\n",
    "    x = random.random(n_points)\n",
    "    y = random.random(n_points)\n",
    "    d_est = x**2 + y**2\n",
    "    num_points_circle = sum(d_est<=1)\n",
    "    \n",
    "    return 4*(num_points_circle/n_points)"
   ]
  },
  {
   "cell_type": "code",
   "execution_count": 28,
   "metadata": {},
   "outputs": [],
   "source": [
    "num_points_list = [10**i for i in range(8)]\n",
    "pi_list, run_time = [], []\n",
    "for num_iters in num_points_list:\n",
    "    t1 = time.time()\n",
    "    pi_est1 = estimate_pi(num_iters)\n",
    "    t2 = time.time()\n",
    "    pi_est2 = estimate_pi2(num_iters)\n",
    "    t3 = time.time()\n",
    "\n",
    "    t_alg1 = t2-t1\n",
    "    t_alg2 = t3-t2\n",
    "    pi_list.append([pi_est1, pi_est2])\n",
    "    run_time.append([t_alg1, t_alg2])"
   ]
  },
  {
   "cell_type": "code",
   "execution_count": 78,
   "metadata": {},
   "outputs": [
    {
     "data": {
      "text/html": [
       "<div>\n",
       "<style scoped>\n",
       "    .dataframe tbody tr th:only-of-type {\n",
       "        vertical-align: middle;\n",
       "    }\n",
       "\n",
       "    .dataframe tbody tr th {\n",
       "        vertical-align: top;\n",
       "    }\n",
       "\n",
       "    .dataframe thead th {\n",
       "        text-align: right;\n",
       "    }\n",
       "</style>\n",
       "<table border=\"1\" class=\"dataframe\">\n",
       "  <thead>\n",
       "    <tr style=\"text-align: right;\">\n",
       "      <th></th>\n",
       "      <th>pi_est_1</th>\n",
       "      <th>pi_est_2</th>\n",
       "      <th>t_alg_1</th>\n",
       "      <th>t_alg_2</th>\n",
       "    </tr>\n",
       "  </thead>\n",
       "  <tbody>\n",
       "    <tr>\n",
       "      <th>1</th>\n",
       "      <td>4.000000</td>\n",
       "      <td>4.000000</td>\n",
       "      <td>0.000028</td>\n",
       "      <td>0.000038</td>\n",
       "    </tr>\n",
       "    <tr>\n",
       "      <th>10</th>\n",
       "      <td>4.000000</td>\n",
       "      <td>2.400000</td>\n",
       "      <td>0.000026</td>\n",
       "      <td>0.000025</td>\n",
       "    </tr>\n",
       "    <tr>\n",
       "      <th>100</th>\n",
       "      <td>3.240000</td>\n",
       "      <td>3.120000</td>\n",
       "      <td>0.000245</td>\n",
       "      <td>0.000139</td>\n",
       "    </tr>\n",
       "    <tr>\n",
       "      <th>1000</th>\n",
       "      <td>3.212000</td>\n",
       "      <td>3.028000</td>\n",
       "      <td>0.002424</td>\n",
       "      <td>0.001553</td>\n",
       "    </tr>\n",
       "    <tr>\n",
       "      <th>10000</th>\n",
       "      <td>3.122800</td>\n",
       "      <td>3.130400</td>\n",
       "      <td>0.024232</td>\n",
       "      <td>0.011495</td>\n",
       "    </tr>\n",
       "    <tr>\n",
       "      <th>100000</th>\n",
       "      <td>3.140200</td>\n",
       "      <td>3.133080</td>\n",
       "      <td>0.189154</td>\n",
       "      <td>0.098550</td>\n",
       "    </tr>\n",
       "    <tr>\n",
       "      <th>1000000</th>\n",
       "      <td>3.140440</td>\n",
       "      <td>3.138992</td>\n",
       "      <td>1.876739</td>\n",
       "      <td>1.003869</td>\n",
       "    </tr>\n",
       "    <tr>\n",
       "      <th>10000000</th>\n",
       "      <td>3.140453</td>\n",
       "      <td>3.141411</td>\n",
       "      <td>18.470082</td>\n",
       "      <td>9.902475</td>\n",
       "    </tr>\n",
       "  </tbody>\n",
       "</table>\n",
       "</div>"
      ],
      "text/plain": [
       "          pi_est_1  pi_est_2    t_alg_1   t_alg_2\n",
       "1         4.000000  4.000000   0.000028  0.000038\n",
       "10        4.000000  2.400000   0.000026  0.000025\n",
       "100       3.240000  3.120000   0.000245  0.000139\n",
       "1000      3.212000  3.028000   0.002424  0.001553\n",
       "10000     3.122800  3.130400   0.024232  0.011495\n",
       "100000    3.140200  3.133080   0.189154  0.098550\n",
       "1000000   3.140440  3.138992   1.876739  1.003869\n",
       "10000000  3.140453  3.141411  18.470082  9.902475"
      ]
     },
     "execution_count": 78,
     "metadata": {},
     "output_type": "execute_result"
    }
   ],
   "source": [
    "results = pd.DataFrame(pi_list, columns = ['pi_est_1', 'pi_est_2']).merge(pd.DataFrame(run_time, columns = ['t_alg_1', 't_alg_2']), left_index = True, right_index = True)\n",
    "results.index = num_points_list\n",
    "results"
   ]
  },
  {
   "cell_type": "code",
   "execution_count": 125,
   "metadata": {},
   "outputs": [
    {
     "data": {
      "text/plain": [
       "3.141592653589793"
      ]
     },
     "execution_count": 125,
     "metadata": {},
     "output_type": "execute_result"
    }
   ],
   "source": [
    "math.pi"
   ]
  },
  {
   "cell_type": "code",
   "execution_count": 165,
   "metadata": {},
   "outputs": [
    {
     "data": {
      "image/png": "[encoded data removed]",
      "text/plain": [
       "<Figure size 1152x576 with 2 Axes>"
      ]
     },
     "metadata": {},
     "output_type": "display_data"
    }
   ],
   "source": [
    "import matplotlib.pyplot as plt\n",
    "import matplotlib as mpl\n",
    "from matplotlib import ticker\n",
    "import math\n",
    "\n",
    "with sns.axes_style(\"whitegrid\"):\n",
    "\n",
    "    fig, axes = plt.subplots(figsize = (16,8), nrows = 2)\n",
    "    \n",
    "    results.iloc[:, 0:2].plot(kind='bar', color = ['r', 'b'], alpha = 0.6, ax = axes[0], grid = True)\n",
    "    axes[0].hlines(y = math.pi, xmin = -1, xmax = results.index[-1], lw = 2, ls = '-', color = 'k')\n",
    "    axes[0].set_xticklabels(labels = results.index, rotation = 0)\n",
    "    axes[0].xaxis.set_major_formatter(mpl.ticker.ScalarFormatter())\n",
    "    axes[0].legend(labels = ['True Value of $\\pi$', 'Estimate of $\\pi_1$', 'Estimate of $\\pi_2$'])\n",
    "    #axes[0].xaxis.set_major_formatter(formatter) \n",
    "\n",
    "    results.iloc[:, 2:].plot(kind='line', color = ['r', 'b'], alpha = 0.5, ax = axes[1], grid = True, lw = 3)\n",
    "    axes[1].legend(labels = ['$\\\\tau_1$', '$\\\\tau_2$'])\n",
    "    plt.tight_layout()\n",
    "    plt.show()"
   ]
  },
  {
   "cell_type": "code",
   "execution_count": null,
   "metadata": {},
   "outputs": [],
   "source": []
  },
  {
   "cell_type": "code",
   "execution_count": null,
   "metadata": {},
   "outputs": [],
   "source": []
  }
 ],
 "metadata": {
  "kernelspec": {
   "display_name": "Python 3.10.5 64-bit",
   "language": "python",
   "name": "python3"
  },
  "language_info": {
   "codemirror_mode": {
    "name": "ipython",
    "version": 3
   },
   "file_extension": ".py",
   "mimetype": "text/x-python",
   "name": "python",
   "nbconvert_exporter": "python",
   "pygments_lexer": "ipython3",
   "version": "3.10.5"
  },
  "orig_nbformat": 4,
  "vscode": {
   "interpreter": {
    "hash": "aee8b7b246df8f9039afb4144a1f6fd8d2ca17a180786b69acc140d282b71a49"
   }
  }
 },
 "nbformat": 4,
 "nbformat_minor": 2
}
