{
 "cells": [
  {
   "cell_type": "markdown",
   "metadata": {},
   "source": [
    "# Description of Problem\n",
    "\n",
    "You have a function called random, which generates a random number between 0 to 1, uniformly. \n",
    "How would one be able to calculate $\\pi$ using this function?\n",
    "\n",
    "# Approach to the Solution\n",
    "\n",
    "You are given the function which uniformly draws a number between the bounds of 0 and 1. We can frame this problem by drawing a unit square, which has lengths equal to 1. The procedure here is to imagine that you can draw/sample from the uniform distribution, generating a pair of (x,y) coordinates respectively. Ultimately, this point which is defined by these two variables will be confined by the area of the unit square. We can then compute the distance from the origin as to where this point lies, simply by applying Pythagorean Theorem:\n",
    "\n",
    "$$ r^2 = x^2 + y^2 $$\n",
    "\n",
    "Then, having this calculated distance, we can see from Figure 1 that any point that has a distance less than or equal to 1 would either lie on the boundry of the circle or within it. Thus, we can then take the ratio of the number of points which fall within this blue-shaded area with respect to the total number of points (which would encompass those that fall within and outside the 1/4 circular boundry) as a proxy and similar ratio to the area of the circle ($A_{circle}=\\pi r^2$) relative to the area of the square ($A_{square} = r^2$). Hence this hypothesis leads to the estimation of $\\pi$ but scaled by a factor of 4 as only one 1/4 of the circle is used. \n",
    "\n",
    "The expectation here is that as you increase the number of points that you use to sample, you will get a better approximation of $\\pi$.\n",
    "\n",
    "$$ \\bar\\pi \\approx \\frac{A_{circle}}{A_{square}} \\approx \\frac{n^{points}_{circle}}{n^{points}_{total}} $$\n",
    "\n",
    "[<img src=\"Figures/UnitSquare_Circle_Estimate_Pi.png\" width=\"500\"/>](Figures/UnitSquare_Circle_Estimate_Pi.png)\n",
    "#### "
   ]
  },
  {
   "cell_type": "code",
   "execution_count": 18,
   "metadata": {},
   "outputs": [],
   "source": [
    "import pandas as pd\n",
    "import numpy as np\n",
    "from numpy import random\n",
    "import seaborn as sns\n",
    "import os, time, math\n",
    "import matplotlib.pyplot as plt\n",
    "\n",
    "def estimate_pi(n_points):\n",
    "    \"\"\"\n",
    "    Inputs\n",
    "    -------\n",
    "    n: number of points you would use to estimate\n",
    "    \n",
    "    Returns\n",
    "    -------\n",
    "    Estimate of pi\n",
    "    \"\"\"\n",
    "    # Initially you want to set the two variables x, y by sampling from a uniform distribution\n",
    "    # Then check the distance and determine whether the point is in the 1/4 circle or not\n",
    "    \n",
    "    num_points_circle = 0\n",
    "    \n",
    "    for i in range(n_points):\n",
    "        x = random.uniform(0,1)\n",
    "        y = random.uniform(0,1)\n",
    "        # Pythagorean Theorem to calculate the distance, and check if it is <= 1, if True then the point is within the circle \n",
    "        d_est = x**2+y**2\n",
    "        if d_est <= 1:\n",
    "            num_points_circle += 1\n",
    "        \n",
    "    return 4*(num_points_circle/n_points)\n",
    "\n",
    "def estimate_pi2(n_points):\n",
    "    \"\"\"\n",
    "    Inputs\n",
    "    -------\n",
    "    n: number of points you would use to estimate\n",
    "    \n",
    "    Returns\n",
    "    -------\n",
    "    Estimate of pi\n",
    "    \"\"\"\n",
    "    x = random.random(n_points)\n",
    "    y = random.random(n_points)\n",
    "    d_est = x**2 + y**2\n",
    "    num_points_circle = sum(d_est<=1)\n",
    "    \n",
    "    return 4*(num_points_circle/n_points)\n",
    "\n",
    "def run_test(range_to_check=8):\n",
    "    num_points_list = [10**i for i in range(1, range_to_check)]\n",
    "    pi_list, run_time = [], []\n",
    "    for num_iters in num_points_list:\n",
    "        t1 = time.time()\n",
    "        pi_est1 = estimate_pi(num_iters)\n",
    "        t2 = time.time()\n",
    "        pi_est2 = estimate_pi2(num_iters)\n",
    "        t3 = time.time()\n",
    "\n",
    "        t_alg1 = t2-t1\n",
    "        t_alg2 = t3-t2\n",
    "        pi_list.append([pi_est1, pi_est2])\n",
    "        run_time.append([t_alg1, t_alg2])\n",
    "    return pi_list, run_time\n",
    "\n",
    "def create_dataframe(pi_list, run_time):\n",
    "    df_pi_est = pd.DataFrame(pi_list, columns = ['pi_est_1', 'pi_est_2'])\n",
    "    df_run_times = pd.DataFrame(run_time, columns = ['t_alg_1', 't_alg_2'])\n",
    "    results = df_pi_est.merge(df_run_times, left_index = True, right_index = True)\n",
    "    results.index = [10**i for i in range(1, len(pi_list)+1)]\n",
    "    return results"
   ]
  },
  {
   "cell_type": "markdown",
   "metadata": {},
   "source": [
    "## Call the Two Functions\n",
    "* Outputs of run_test() will be used as inputs to create_dataframe()"
   ]
  },
  {
   "cell_type": "code",
   "execution_count": 19,
   "metadata": {},
   "outputs": [
    {
     "data": {
      "text/html": [
       "<div>\n",
       "<style scoped>\n",
       "    .dataframe tbody tr th:only-of-type {\n",
       "        vertical-align: middle;\n",
       "    }\n",
       "\n",
       "    .dataframe tbody tr th {\n",
       "        vertical-align: top;\n",
       "    }\n",
       "\n",
       "    .dataframe thead th {\n",
       "        text-align: right;\n",
       "    }\n",
       "</style>\n",
       "<table border=\"1\" class=\"dataframe\">\n",
       "  <thead>\n",
       "    <tr style=\"text-align: right;\">\n",
       "      <th></th>\n",
       "      <th>pi_est_1</th>\n",
       "      <th>pi_est_2</th>\n",
       "      <th>t_alg_1</th>\n",
       "      <th>t_alg_2</th>\n",
       "    </tr>\n",
       "  </thead>\n",
       "  <tbody>\n",
       "    <tr>\n",
       "      <th>10</th>\n",
       "      <td>2.800000</td>\n",
       "      <td>2.000000</td>\n",
       "      <td>0.000050</td>\n",
       "      <td>0.000057</td>\n",
       "    </tr>\n",
       "    <tr>\n",
       "      <th>100</th>\n",
       "      <td>3.080000</td>\n",
       "      <td>3.120000</td>\n",
       "      <td>0.000226</td>\n",
       "      <td>0.000132</td>\n",
       "    </tr>\n",
       "    <tr>\n",
       "      <th>1000</th>\n",
       "      <td>3.080000</td>\n",
       "      <td>3.068000</td>\n",
       "      <td>0.002304</td>\n",
       "      <td>0.001462</td>\n",
       "    </tr>\n",
       "    <tr>\n",
       "      <th>10000</th>\n",
       "      <td>3.154400</td>\n",
       "      <td>3.171600</td>\n",
       "      <td>0.020884</td>\n",
       "      <td>0.010030</td>\n",
       "    </tr>\n",
       "    <tr>\n",
       "      <th>100000</th>\n",
       "      <td>3.142120</td>\n",
       "      <td>3.137400</td>\n",
       "      <td>0.187342</td>\n",
       "      <td>0.098805</td>\n",
       "    </tr>\n",
       "    <tr>\n",
       "      <th>1000000</th>\n",
       "      <td>3.141860</td>\n",
       "      <td>3.140788</td>\n",
       "      <td>1.881984</td>\n",
       "      <td>0.986415</td>\n",
       "    </tr>\n",
       "    <tr>\n",
       "      <th>10000000</th>\n",
       "      <td>3.141674</td>\n",
       "      <td>3.141208</td>\n",
       "      <td>18.699013</td>\n",
       "      <td>9.816765</td>\n",
       "    </tr>\n",
       "  </tbody>\n",
       "</table>\n",
       "</div>"
      ],
      "text/plain": [
       "          pi_est_1  pi_est_2    t_alg_1   t_alg_2\n",
       "10        2.800000  2.000000   0.000050  0.000057\n",
       "100       3.080000  3.120000   0.000226  0.000132\n",
       "1000      3.080000  3.068000   0.002304  0.001462\n",
       "10000     3.154400  3.171600   0.020884  0.010030\n",
       "100000    3.142120  3.137400   0.187342  0.098805\n",
       "1000000   3.141860  3.140788   1.881984  0.986415\n",
       "10000000  3.141674  3.141208  18.699013  9.816765"
      ]
     },
     "execution_count": 19,
     "metadata": {},
     "output_type": "execute_result"
    }
   ],
   "source": [
    "pi_list, run_time = run_test()\n",
    "results = create_dataframe(pi_list, run_time)\n",
    "results\n"
   ]
  },
  {
   "cell_type": "markdown",
   "metadata": {},
   "source": [
    "## Plotting the Results - Comparing Two Methods \n",
    "\n",
    "* The following plots show the estimations between the two different functions, estimate_pi and estimate_pi2 for a range of points used in the estimation. \n",
    "* The resulting plots show that they slowly converge to the true value, however the main observable difference is the run-time of the first algorithm which takes roughly twice as much time (this is a result of the for loop which would scale with the number of points used)."
   ]
  },
  {
   "cell_type": "code",
   "execution_count": 22,
   "metadata": {},
   "outputs": [
    {
     "name": "stderr",
     "output_type": "stream",
     "text": [
      "/var/folders/2v/fdclpbzj4xd980kdcq59l9100000gn/T/ipykernel_29858/1022552582.py:18: UserWarning: FixedFormatter should only be used together with FixedLocator\n",
      "  axes[1].set_xticklabels(labels = plot_labels)\n"
     ]
    },
    {
     "data": {
      "image/png": "[encoded data removed]",
      "text/plain": [
       "<Figure size 1152x576 with 2 Axes>"
      ]
     },
     "metadata": {},
     "output_type": "display_data"
    }
   ],
   "source": [
    "plot_labels = [f'$10^{i}$'for i in range(len(pi_list))]\n",
    "with sns.axes_style('whitegrid', {'ytick.left': True, 'axes.edgecolor':'black',\n",
    "                                                            'font.serif': ['Times New Roman'],\n",
    "                           'font.family': 'Times New Roman'}):\n",
    "\n",
    "    fig, axes = plt.subplots(figsize = (16,8), ncols = 2)\n",
    "    \n",
    "    results.iloc[:, 0:2].plot(kind='bar', color = ['r', 'b'], alpha = 0.6, ax = axes[0], grid = True)\n",
    "    axes[0].hlines(y = math.pi, xmin = -1, xmax = results.index[-1], lw = 2, ls = '-', color = 'k')\n",
    "    axes[0].set_xticklabels(labels = results.index, rotation = 0)\n",
    "    axes[0].legend(labels = ['True Value of $\\pi$', 'Estimate of $\\pi_1$', 'Estimate of $\\pi_2$'])\n",
    "    axes[0].set_xticklabels(labels = plot_labels)\n",
    "    axes[0].set_xlabel('Number of Points')\n",
    "    axes[0].set_ylabel('Value')\n",
    "\n",
    "    results.iloc[:, 2:].plot(kind='line', color = ['r', 'b'], alpha = 0.8, ax = axes[1], grid = True, lw = 3)\n",
    "    axes[1].legend(labels = ['$\\\\tau_1$', '$\\\\tau_2$'])\n",
    "    axes[1].set_xticklabels(labels = plot_labels)\n",
    "    axes[1].set_xlabel('Number of Points')\n",
    "    axes[1].set_ylabel('Runtime of Calculation')\n",
    "    plt.suptitle('Estimation of $\\pi$')\n",
    "    plt.tight_layout()\n",
    "    plt.show()"
   ]
  },
  {
   "cell_type": "code",
   "execution_count": null,
   "metadata": {},
   "outputs": [],
   "source": []
  },
  {
   "cell_type": "code",
   "execution_count": null,
   "metadata": {},
   "outputs": [],
   "source": []
  }
 ],
 "metadata": {
  "kernelspec": {
   "display_name": "Python 3.10.5 64-bit",
   "language": "python",
   "name": "python3"
  },
  "language_info": {
   "codemirror_mode": {
    "name": "ipython",
    "version": 3
   },
   "file_extension": ".py",
   "mimetype": "text/x-python",
   "name": "python",
   "nbconvert_exporter": "python",
   "pygments_lexer": "ipython3",
   "version": "3.10.5"
  },
  "orig_nbformat": 4,
  "vscode": {
   "interpreter": {
    "hash": "aee8b7b246df8f9039afb4144a1f6fd8d2ca17a180786b69acc140d282b71a49"
   }
  }
 },
 "nbformat": 4,
 "nbformat_minor": 2
}
