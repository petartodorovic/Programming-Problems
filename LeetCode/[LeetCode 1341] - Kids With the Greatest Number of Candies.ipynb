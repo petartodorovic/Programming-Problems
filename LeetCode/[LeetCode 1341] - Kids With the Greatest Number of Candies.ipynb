{
 "cells": [
  {
   "cell_type": "markdown",
   "id": "b1490897",
   "metadata": {},
   "source": [
    "<h1> Leetcode Problem - 1431 </h1>\n",
    "\n",
    "<https://leetcode.com/problems/kids-with-the-greatest-number-of-candies/>\n",
    "\n",
    "<h2> Kids with the greatest number of candies </h2>\n",
    "\n",
    "Given the array candies and the integer extraCandies, where candies[i] represents the number of candies that the i$^{th}$ kid has.\n",
    "\n",
    "For each kid check if there is a way to distribute extraCandies among the kids such that he or she can have the greatest number of candies among them. Notice that multiple kids can have the greatest number of candies.\n",
    "\n",
    "-----"
   ]
  },
  {
   "cell_type": "markdown",
   "id": "131d82fd",
   "metadata": {},
   "source": [
    "### Example\n",
    "Input: candies = [2,3,5,1,3],\n",
    "\n",
    "extraCandies = 3\n",
    "\n",
    "Output: [true,true,true,false,true]\n",
    "\n",
    "Explanation: \n",
    "Kid 1 has 2 candies and if he or she receives all extra candies (3) will have 5 candies --- the greatest number of candies among the kids. \n",
    "Kid 2 has 3 candies and if he or she receives at least 2 extra candies will have the greatest number of candies among the kids. \n",
    "Kid 3 has 5 candies and this is already the greatest number of candies among the kids. \n",
    "Kid 4 has 1 candy and even if he or she receives all extra candies will only have 4 candies. \n",
    "Kid 5 has 3 candies and if he or she receives at least 2 extra candies will have the greatest number of candies among the kids."
   ]
  },
  {
   "cell_type": "code",
   "execution_count": 3,
   "id": "cc345fd6",
   "metadata": {},
   "outputs": [],
   "source": [
    "class Solution:\n",
    "    def kidsWithCandies(self, candies, extraCandies:int):\n",
    "        # Here you will get the largest value of candies (greatest number amont all of the kids from array candies)\n",
    "        max_candies = max(candies)\n",
    "        \n",
    "        #greatest_list = [1 if (candy+extraCandies)>=max_candies else 0 for candy in candies]\n",
    "        greatest_list = [True if (candy+extraCandies)>=max_candies else False for candy in candies]\n",
    "        \n",
    "        return greatest_list\n"
   ]
  },
  {
   "cell_type": "code",
   "execution_count": 4,
   "id": "ef8176c7",
   "metadata": {},
   "outputs": [
    {
     "name": "stdout",
     "output_type": "stream",
     "text": [
      "----------\n",
      "Test Case\n"
     ]
    },
    {
     "data": {
      "text/plain": [
       "[True, True, True, False, True]"
      ]
     },
     "execution_count": 4,
     "metadata": {},
     "output_type": "execute_result"
    }
   ],
   "source": [
    "print(\"--\"*5)\n",
    "print(\"Test Case\")\n",
    "candies = [2,3,5,1,3]\n",
    "extraCandies = 3\n",
    "obj = Solution()\n",
    "obj.kidsWithCandies(candies, extraCandies)"
   ]
  },
  {
   "cell_type": "code",
   "execution_count": null,
   "id": "4f40e9f0",
   "metadata": {},
   "outputs": [],
   "source": []
  }
 ],
 "metadata": {
  "kernelspec": {
   "display_name": "Python 3 (ipykernel)",
   "language": "python",
   "name": "python3"
  },
  "language_info": {
   "codemirror_mode": {
    "name": "ipython",
    "version": 3
   },
   "file_extension": ".py",
   "mimetype": "text/x-python",
   "name": "python",
   "nbconvert_exporter": "python",
   "pygments_lexer": "ipython3",
   "version": "3.10.5"
  }
 },
 "nbformat": 4,
 "nbformat_minor": 5
}
