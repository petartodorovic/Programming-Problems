{
 "cells": [
  {
   "cell_type": "markdown",
   "id": "c621ecb2",
   "metadata": {},
   "source": [
    "# Project Euler Question 1\n",
    "\n",
    "If we list all the natural numbers below 10 that are multiples of 3 or 5, we get 3, 5, 6 and 9. The sum of these multiples is 23.\n",
    "\n",
    "Find the sum of all the multiples of 3 or 5 below 1000."
   ]
  },
  {
   "cell_type": "markdown",
   "id": "a68a1f6d",
   "metadata": {},
   "source": [
    "Explanation of Solution\n",
    "--- \n",
    "First you will iterate through the range of 0 -> 1000, checking if the number is a multiple of 3 or 5. This can be implemented by the modulus operator %. Collect and store if it is a multiple and sum the total. "
   ]
  },
  {
   "cell_type": "code",
   "execution_count": 16,
   "id": "47a0f1ee",
   "metadata": {},
   "outputs": [
    {
     "data": {
      "text/plain": [
       "233168"
      ]
     },
     "execution_count": 16,
     "metadata": {},
     "output_type": "execute_result"
    }
   ],
   "source": [
    "def get_sum_multiples():\n",
    "    list_n_mults = [num for num in range(0,1000) if ( num % 3 == 0) or ( num % 5 == 0)]\n",
    "    sums = sum(list_n_mults)\n",
    "    return sums\n",
    "get_sum_multiples()"
   ]
  },
  {
   "cell_type": "markdown",
   "id": "7b9720d3",
   "metadata": {},
   "source": [
    "Modifying the Function to Accept Multiples as Arguments\n",
    "--- "
   ]
  },
  {
   "cell_type": "code",
   "execution_count": 17,
   "id": "e5366270",
   "metadata": {},
   "outputs": [
    {
     "data": {
      "text/plain": [
       "165834"
      ]
     },
     "execution_count": 17,
     "metadata": {},
     "output_type": "execute_result"
    }
   ],
   "source": [
    "def get_sum_multiples_spec(mult1, mult2):\n",
    "    list_n_mults = [num for num in range(0,1000) if \n",
    "                    ( num % mult1 == 0) or \n",
    "                    ( num % mult2 == 0)]\n",
    "    sums = sum(list_n_mults)\n",
    "    return sums\n",
    "get_sum_multiples_spec(4, 6)"
   ]
  }
 ],
 "metadata": {
  "kernelspec": {
   "display_name": "Python 3 (ipykernel)",
   "language": "python",
   "name": "python3"
  },
  "language_info": {
   "codemirror_mode": {
    "name": "ipython",
    "version": 3
   },
   "file_extension": ".py",
   "mimetype": "text/x-python",
   "name": "python",
   "nbconvert_exporter": "python",
   "pygments_lexer": "ipython3",
   "version": "3.10.5"
  }
 },
 "nbformat": 4,
 "nbformat_minor": 5
}
