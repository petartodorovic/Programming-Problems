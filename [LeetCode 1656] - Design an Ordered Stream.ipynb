{
 "cells": [
  {
   "cell_type": "markdown",
   "metadata": {},
   "source": [
    "<h1> Leetcode Problem - 1656 </h1>\n",
    "\n",
    "<https://leetcode.com/problems/design-an-ordered-stream/>\n",
    "\n",
    "<h2> Design an Ordered Stream </h2>\n",
    "\n",
    "There is a stream of n (idKey, value) pairs arriving in an arbitrary order, where idKey is an integer between 1 and n and value is a string. No two pairs have the same id.\n",
    "\n",
    "Design a stream that returns the values in increasing order of their IDs by returning a chunk (list) of values after each insertion. The concatenation of all the chunks should result in a list of the sorted values.\n",
    "\n",
    "Implement the OrderedStream class:\n",
    "\n",
    "OrderedStream(int n) Constructs the stream to take n values.\n",
    "\n",
    "String[] insert(int idKey, String value) Inserts the pair (idKey, value) into the stream, then returns the largest possible chunk of currently inserted values that appear next in the order."
   ]
  },
  {
   "cell_type": "markdown",
   "metadata": {},
   "source": [
    "Input\n",
    "\n",
    "[\"OrderedStream\", \"insert\", \"insert\", \"insert\", \"insert\", \"insert\"]\n",
    "\n",
    "[[5], [3, \"ccccc\"], [1, \"aaaaa\"], [2, \"bbbbb\"], [5, \"eeeee\"], [4, \"ddddd\"]]\n",
    "\n",
    "Output\n",
    "\n",
    "[null, [], [\"aaaaa\"], [\"bbbbb\", \"ccccc\"], [], [\"ddddd\", \"eeeee\"]]"
   ]
  },
  {
   "cell_type": "code",
   "execution_count": 2,
   "metadata": {},
   "outputs": [],
   "source": [
    "import numpy as np\n",
    "import pandas as pd\n",
    "import typing\n",
    "from typing import List"
   ]
  },
  {
   "cell_type": "code",
   "execution_count": 3,
   "metadata": {},
   "outputs": [],
   "source": [
    "class OrderedStream:\n",
    "\n",
    "    def __init__(self, n: int):\n",
    "        # First here you want to define the length of the stream, constraint is n <= 5\n",
    "        # You want to have an empty list n+1 times, to return at each iteration step after doing the condition checking\n",
    "        self.stream_list = [\"\"] * (n+1)\n",
    "        self.ptr = 1 # pointer\n",
    "        \n",
    "\n",
    "    def insert(self, idKey: int, value: str) -> List[str]:\n",
    "        self.stream_list[idKey] = value\n",
    "        output = []\n",
    "\n",
    "        if idKey == self.ptr:\n",
    "            while (self.ptr < len(self.stream_list)) and self.stream_list[self.ptr]:\n",
    "                output.append(self.stream_list[self.ptr])\n",
    "                self.ptr += 1\n",
    "        return output\n",
    "\n",
    "        \n",
    "# Your OrderedStream object will be instantiated and called as such:\n",
    "# obj = OrderedStream(n)\n",
    "# param_1 = obj.insert(idKey,value)\n",
    "\n"
   ]
  },
  {
   "cell_type": "code",
   "execution_count": 17,
   "metadata": {},
   "outputs": [
    {
     "data": {
      "text/plain": [
       "['ddddd', 'eeeee']"
      ]
     },
     "execution_count": 17,
     "metadata": {},
     "output_type": "execute_result"
    }
   ],
   "source": [
    "obj = OrderedStream(5)\n",
    "obj.insert(3, \"ccccc\")\n",
    "obj.insert(1, \"aaaaa\")\n",
    "obj.insert(2,\"bbbbb\")\n",
    "obj.insert(5, \"eeeee\")\n",
    "obj.insert(4, \"ddddd\")"
   ]
  }
 ],
 "metadata": {
  "kernelspec": {
   "display_name": "Python 3.10.5 64-bit",
   "language": "python",
   "name": "python3"
  },
  "language_info": {
   "codemirror_mode": {
    "name": "ipython",
    "version": 3
   },
   "file_extension": ".py",
   "mimetype": "text/x-python",
   "name": "python",
   "nbconvert_exporter": "python",
   "pygments_lexer": "ipython3",
   "version": "3.10.5"
  },
  "orig_nbformat": 4,
  "vscode": {
   "interpreter": {
    "hash": "aee8b7b246df8f9039afb4144a1f6fd8d2ca17a180786b69acc140d282b71a49"
   }
  }
 },
 "nbformat": 4,
 "nbformat_minor": 2
}
