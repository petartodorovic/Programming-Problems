{
 "cells": [
  {
   "cell_type": "markdown",
   "metadata": {},
   "source": [
    "## Importing Packages for Outlier Detection Analysis and EDA "
   ]
  },
  {
   "cell_type": "code",
   "execution_count": 6,
   "metadata": {},
   "outputs": [],
   "source": [
    "import pandas as pd\n",
    "import numpy as np\n",
    "import sklearn\n",
    "import os\n",
    "import scipy\n",
    "import statsmodels.api as sm\n",
    "import seaborn as sns\n",
    "from pyod.models.mad import MAD\n"
   ]
  },
  {
   "cell_type": "markdown",
   "metadata": {},
   "source": [
    "\n",
    "## PyOD is a standard package for python which represented Python Outlier Detection\n",
    "\n",
    "One of the common methods to analyze a dataset and identify outliers is to use the mean and standard deviation of the dataset. However, these two measures are prone to the outliers themselves, and if there are large magnitudes in the differences between the inliers and outliers, these metrics will be influenced significantly and hence not be representative detectors for the outliers. \n",
    "\n",
    "Median Absolute Difference is an alternative measure used to describe the variability or the extent to which a datapoint is an outlier. It uses the median to calculate the difference, then an absolute measure is applied. This provides a more stable result, as the median is less prone to being influenced by extreme outlier values. "
   ]
  },
  {
   "cell_type": "code",
   "execution_count": 7,
   "metadata": {},
   "outputs": [],
   "source": [
    "input_df = pd.read_csv(\"/Users/petartodorovic/Documents/Programming/Programming-Problems/RandomLearnings/datasets/listings.csv\")"
   ]
  },
  {
   "cell_type": "markdown",
   "metadata": {},
   "source": [
    "# Multivariate Anomalies \n",
    "- have two or more attributes that are outside the norm\n",
    "- Isolation Forests \n",
    "    - iTrees is the short for Isolation Trees\n",
    "    - Randomized versions of Decision Trees, and splitting/branching occurs randomly\n",
    "    - Random split is more likely to occur in an inlier/outlier gap, hence why the method is an efficient protocol for detecting these outliers\n",
    "\n",
    "Only a fraction of the inliers will suffice to differentiate the outliers, which drastically reduces computation time"
   ]
  },
  {
   "cell_type": "code",
   "execution_count": null,
   "metadata": {},
   "outputs": [],
   "source": [
    "from pyod.models.iforest import IForest\n",
    "\n",
    "iforest = IForest()\n",
    "labels = iforest.fit_predict()\n",
    "\n",
    "outliers = input_df[labels==1]"
   ]
  },
  {
   "cell_type": "markdown",
   "metadata": {},
   "source": []
  }
 ],
 "metadata": {
  "kernelspec": {
   "display_name": "Python 3.10.5 64-bit",
   "language": "python",
   "name": "python3"
  },
  "language_info": {
   "codemirror_mode": {
    "name": "ipython",
    "version": 3
   },
   "file_extension": ".py",
   "mimetype": "text/x-python",
   "name": "python",
   "nbconvert_exporter": "python",
   "pygments_lexer": "ipython3",
   "version": "3.10.5"
  },
  "orig_nbformat": 4,
  "vscode": {
   "interpreter": {
    "hash": "aee8b7b246df8f9039afb4144a1f6fd8d2ca17a180786b69acc140d282b71a49"
   }
  }
 },
 "nbformat": 4,
 "nbformat_minor": 2
}
