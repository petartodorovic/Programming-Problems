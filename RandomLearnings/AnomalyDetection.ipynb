{
 "cells": [
  {
   "cell_type": "markdown",
   "metadata": {},
   "source": [
    "## Importing Packages for Outlier Detection Analysis and EDA "
   ]
  },
  {
   "cell_type": "code",
   "execution_count": 34,
   "metadata": {},
   "outputs": [],
   "source": [
    "import pandas as pd\n",
    "import numpy as np\n",
    "import sklearn\n",
    "import os\n",
    "import scipy\n",
    "import statsmodels.api as sm\n",
    "import seaborn as sns\n",
    "from pyod.models.mad import MAD\n",
    "from pyod.models.iforest import IForest\n",
    "import matplotlib.pyplot as plt\n"
   ]
  },
  {
   "cell_type": "markdown",
   "metadata": {},
   "source": [
    "## PyOD Package and Analysis"
   ]
  },
  {
   "cell_type": "markdown",
   "metadata": {},
   "source": [
    "One of the common methods to analyze a dataset and identify outliers is to use the mean and standard deviation of the dataset. However, these two measures are prone to the outliers themselves, and if there are large magnitudes in the differences between the inliers and outliers, these metrics will be influenced significantly and hence not be representative detectors for the outliers. \n",
    "\n",
    "Median Absolute Difference is an alternative measure used to describe the variability or the extent to which a datapoint is an outlier. It uses the median to calculate the difference, then an absolute measure is applied. This provides a more stable result, as the median is less prone to being influenced by extreme outlier values. "
   ]
  },
  {
   "cell_type": "code",
   "execution_count": 27,
   "metadata": {},
   "outputs": [
    {
     "data": {
      "text/html": [
       "<div>\n",
       "<style scoped>\n",
       "    .dataframe tbody tr th:only-of-type {\n",
       "        vertical-align: middle;\n",
       "    }\n",
       "\n",
       "    .dataframe tbody tr th {\n",
       "        vertical-align: top;\n",
       "    }\n",
       "\n",
       "    .dataframe thead th {\n",
       "        text-align: right;\n",
       "    }\n",
       "</style>\n",
       "<table border=\"1\" class=\"dataframe\">\n",
       "  <thead>\n",
       "    <tr style=\"text-align: right;\">\n",
       "      <th></th>\n",
       "      <th>host_id</th>\n",
       "      <th>latitude</th>\n",
       "      <th>longitude</th>\n",
       "      <th>price</th>\n",
       "      <th>minimum_nights</th>\n",
       "      <th>number_of_reviews</th>\n",
       "      <th>reviews_per_month</th>\n",
       "      <th>calculated_host_listings_count</th>\n",
       "      <th>availability_365</th>\n",
       "      <th>number_of_reviews_ltm</th>\n",
       "    </tr>\n",
       "    <tr>\n",
       "      <th>id</th>\n",
       "      <th></th>\n",
       "      <th></th>\n",
       "      <th></th>\n",
       "      <th></th>\n",
       "      <th></th>\n",
       "      <th></th>\n",
       "      <th></th>\n",
       "      <th></th>\n",
       "      <th></th>\n",
       "      <th></th>\n",
       "    </tr>\n",
       "  </thead>\n",
       "  <tbody>\n",
       "    <tr>\n",
       "      <th>2595</th>\n",
       "      <td>2845</td>\n",
       "      <td>40.75356</td>\n",
       "      <td>-73.98559</td>\n",
       "      <td>240.0</td>\n",
       "      <td>30</td>\n",
       "      <td>49</td>\n",
       "      <td>0.27</td>\n",
       "      <td>3</td>\n",
       "      <td>365</td>\n",
       "      <td>0</td>\n",
       "    </tr>\n",
       "    <tr>\n",
       "      <th>6848</th>\n",
       "      <td>15991</td>\n",
       "      <td>40.70935</td>\n",
       "      <td>-73.95342</td>\n",
       "      <td>83.0</td>\n",
       "      <td>30</td>\n",
       "      <td>195</td>\n",
       "      <td>1.04</td>\n",
       "      <td>1</td>\n",
       "      <td>185</td>\n",
       "      <td>4</td>\n",
       "    </tr>\n",
       "    <tr>\n",
       "      <th>6872</th>\n",
       "      <td>16104</td>\n",
       "      <td>40.80107</td>\n",
       "      <td>-73.94255</td>\n",
       "      <td>65.0</td>\n",
       "      <td>30</td>\n",
       "      <td>1</td>\n",
       "      <td>0.03</td>\n",
       "      <td>2</td>\n",
       "      <td>83</td>\n",
       "      <td>0</td>\n",
       "    </tr>\n",
       "    <tr>\n",
       "      <th>6990</th>\n",
       "      <td>16800</td>\n",
       "      <td>40.78778</td>\n",
       "      <td>-73.94759</td>\n",
       "      <td>71.0</td>\n",
       "      <td>30</td>\n",
       "      <td>250</td>\n",
       "      <td>1.37</td>\n",
       "      <td>1</td>\n",
       "      <td>284</td>\n",
       "      <td>4</td>\n",
       "    </tr>\n",
       "    <tr>\n",
       "      <th>7097</th>\n",
       "      <td>17571</td>\n",
       "      <td>40.69194</td>\n",
       "      <td>-73.97389</td>\n",
       "      <td>205.0</td>\n",
       "      <td>2</td>\n",
       "      <td>390</td>\n",
       "      <td>2.16</td>\n",
       "      <td>2</td>\n",
       "      <td>215</td>\n",
       "      <td>38</td>\n",
       "    </tr>\n",
       "  </tbody>\n",
       "</table>\n",
       "</div>"
      ],
      "text/plain": [
       "      host_id  latitude  longitude  price  minimum_nights  number_of_reviews  \\\n",
       "id                                                                             \n",
       "2595     2845  40.75356  -73.98559  240.0              30                 49   \n",
       "6848    15991  40.70935  -73.95342   83.0              30                195   \n",
       "6872    16104  40.80107  -73.94255   65.0              30                  1   \n",
       "6990    16800  40.78778  -73.94759   71.0              30                250   \n",
       "7097    17571  40.69194  -73.97389  205.0               2                390   \n",
       "\n",
       "      reviews_per_month  calculated_host_listings_count  availability_365  \\\n",
       "id                                                                          \n",
       "2595               0.27                               3               365   \n",
       "6848               1.04                               1               185   \n",
       "6872               0.03                               2                83   \n",
       "6990               1.37                               1               284   \n",
       "7097               2.16                               2               215   \n",
       "\n",
       "      number_of_reviews_ltm  \n",
       "id                           \n",
       "2595                      0  \n",
       "6848                      4  \n",
       "6872                      0  \n",
       "6990                      4  \n",
       "7097                     38  "
      ]
     },
     "execution_count": 27,
     "metadata": {},
     "output_type": "execute_result"
    }
   ],
   "source": [
    "input_df = pd.read_csv(\"datasets/listings.csv\")\n",
    "input_df = input_df.select_dtypes(include=['int64','float64'])\n",
    "input_df = input_df.dropna()\n",
    "input_df['id'] = input_df['id'].astype(int)\n",
    "input_df = input_df.set_index('id')\n",
    "input_df.head()"
   ]
  },
  {
   "cell_type": "markdown",
   "metadata": {},
   "source": [
    "## Calculating the Median Absolute Difference "
   ]
  },
  {
   "cell_type": "code",
   "execution_count": 28,
   "metadata": {},
   "outputs": [],
   "source": [
    "# Import the Sklearn Ordinal Encoder to process categorical data columns\n",
    "from sklearn.preprocessing import OrdinalEncoder\n",
    "\n",
    "# Initialize the encoder\n",
    "oe = OrdinalEncoder()\n",
    "\n",
    "# Extract the categorical feature names\n",
    "cats = input_df.select_dtypes(include=\"category\").columns.tolist()\n",
    "\n",
    "# Encode the categorical features\n",
    "cats_encoded = oe.fit_transform(input_df[cats])\n",
    "\n",
    "# Replace the old values with encoded values\n",
    "input_df.loc[:, cats] = cats_encoded\n",
    "\n",
    "# Extract the feature we want\n",
    "X = input_df[[\"price\"]]\n",
    "\n",
    "# Initialize and fit a model\n",
    "mad = MAD().fit(X)\n",
    "\n",
    "# Extract the outlier labels\n",
    "labels = mad.labels_"
   ]
  },
  {
   "cell_type": "code",
   "execution_count": 56,
   "metadata": {},
   "outputs": [],
   "source": [
    "def plot_binary_barchart(df, column_name):\n",
    "    \"\"\"\n",
    "    Plots a bar chart showing the counts of 0s and 1s in the specified column of a DataFrame.\n",
    "    \n",
    "    Parameters:\n",
    "    df (pd.DataFrame): The input DataFrame.\n",
    "    column_name (str): The column containing 0s and 1s.\n",
    "    \"\"\"\n",
    "    # Count occurrences of 0s and 1s\n",
    "    counts = df[column_name].value_counts()\n",
    "    \n",
    "    # Create the bar chart\n",
    "    plt.figure(figsize=(6, 4))\n",
    "    plt.bar(counts.index.astype(str), counts.values, color=['blue', 'orange'])\n",
    "    plt.xlabel(column_name)\n",
    "    plt.ylabel(\"Count\")\n",
    "    plt.title(f\"Distribution of {column_name}\")\n",
    "    plt.xticks([0, 1], labels=['0', '1'])\n",
    "    plt.show()\n"
   ]
  },
  {
   "cell_type": "code",
   "execution_count": 57,
   "metadata": {},
   "outputs": [
    {
     "data": {
      "image/png": "[encoded data removed]",
      "text/plain": [
       "<Figure size 600x400 with 1 Axes>"
      ]
     },
     "metadata": {},
     "output_type": "display_data"
    }
   ],
   "source": [
    "labels_df = pd.DataFrame(labels, columns = ['label'])\n",
    "plot_binary_barchart(labels_df, 'label')"
   ]
  },
  {
   "cell_type": "markdown",
   "metadata": {},
   "source": [
    "# Multivariate Anomalies \n",
    "- Have two or more attributes that are outside the norm\n",
    "- Isolation Forests \n",
    "    - iTrees is the short for Isolation Trees\n",
    "    - Randomized versions of Decision Trees, and splitting/branching occurs randomly\n",
    "    - Random split is more likely to occur in an inlier/outlier gap, hence why the method is an efficient protocol for detecting these outliers\n",
    "\n",
    "Only a fraction of the inliers will suffice to differentiate the outliers, which drastically reduces computation time"
   ]
  },
  {
   "cell_type": "code",
   "execution_count": 58,
   "metadata": {},
   "outputs": [
    {
     "name": "stdout",
     "output_type": "stream",
     "text": [
      "71\n"
     ]
    },
    {
     "name": "stderr",
     "output_type": "stream",
     "text": [
      "/Library/Frameworks/Python.framework/Versions/3.10/lib/python3.10/site-packages/sklearn/base.py:486: UserWarning: X has feature names, but IsolationForest was fitted without feature names\n",
      "  warnings.warn(\n"
     ]
    },
    {
     "data": {
      "text/plain": [
       "array([[0.93242481, 0.06757519],\n",
       "       [0.88903161, 0.11096839],\n",
       "       [0.91459853, 0.08540147],\n",
       "       ...,\n",
       "       [0.79546942, 0.20453058],\n",
       "       [0.68370842, 0.31629158],\n",
       "       [0.82234317, 0.17765683]])"
      ]
     },
     "execution_count": 58,
     "metadata": {},
     "output_type": "execute_result"
    }
   ],
   "source": [
    "# Instantiate Isolation Forest\n",
    "iforest = IForest(n_estimators=200)\n",
    "iforest.fit(input_df)\n",
    "labels = iforest.labels_\n",
    "outliers = input_df[labels == 1]\n",
    "\n",
    "probs = iforest.predict_proba(input_df)\n",
    "outlier_probs = probs[:, 1]\n",
    "confident_outliers = input_df[outlier_probs >= 0.7]\n",
    "\n",
    "print(len(confident_outliers))\n",
    "\n",
    "probs"
   ]
  },
  {
   "cell_type": "code",
   "execution_count": 60,
   "metadata": {},
   "outputs": [
    {
     "name": "stderr",
     "output_type": "stream",
     "text": [
      "/Library/Frameworks/Python.framework/Versions/3.10/lib/python3.10/site-packages/sklearn/utils/deprecation.py:87: FutureWarning: Function fit_predict is deprecated\n",
      "  warnings.warn(msg, category=FutureWarning)\n"
     ]
    }
   ],
   "source": [
    "\n",
    "iforest = IForest()\n",
    "labels = iforest.fit_predict(input_df)\n",
    "\n",
    "outliers = input_df[labels==1]\n",
    "outliers\n",
    "\n",
    "labels_df_if = pd.DataFrame(labels, columns=['Label'])"
   ]
  },
  {
   "cell_type": "code",
   "execution_count": 61,
   "metadata": {},
   "outputs": [
    {
     "data": {
      "image/png": "[encoded data removed]",
      "text/plain": [
       "<Figure size 600x400 with 1 Axes>"
      ]
     },
     "metadata": {},
     "output_type": "display_data"
    }
   ],
   "source": [
    "plot_binary_barchart(labels_df_if, 'Label')"
   ]
  },
  {
   "cell_type": "code",
   "execution_count": null,
   "metadata": {},
   "outputs": [],
   "source": []
  }
 ],
 "metadata": {
  "kernelspec": {
   "display_name": "Python 3.10.5 64-bit",
   "language": "python",
   "name": "python3"
  },
  "language_info": {
   "codemirror_mode": {
    "name": "ipython",
    "version": 3
   },
   "file_extension": ".py",
   "mimetype": "text/x-python",
   "name": "python",
   "nbconvert_exporter": "python",
   "pygments_lexer": "ipython3",
   "version": "3.10.5"
  },
  "orig_nbformat": 4,
  "vscode": {
   "interpreter": {
    "hash": "aee8b7b246df8f9039afb4144a1f6fd8d2ca17a180786b69acc140d282b71a49"
   }
  }
 },
 "nbformat": 4,
 "nbformat_minor": 2
}
